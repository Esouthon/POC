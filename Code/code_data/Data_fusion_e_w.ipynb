{
 "cells": [
  {
   "cell_type": "code",
   "execution_count": 7,
   "metadata": {},
   "outputs": [],
   "source": [
    "import sys\n",
    "import os\n",
    "import pandas as pd\n",
    "import matplotlib.pyplot as plt\n",
    "# Remplacez 'chemin/vers/votre/projet/module' par le chemin absolu réel vers le dossier \"module\" via la commande pwd\n",
    "module_path = '/Users/eliotsouthon/Desktop/POC/Code/Modules'  \n",
    "sys.path.append(module_path)\n",
    "import ma_bibliotheque "
   ]
  },
  {
   "cell_type": "code",
   "execution_count": 8,
   "metadata": {},
   "outputs": [
    {
     "name": "stdout",
     "output_type": "stream",
     "text": [
      "Liste des chemins des fichiers CSV :\n",
      "/Users/eliotsouthon/Desktop/POC/Data/Data France/Data_silver_france/Data_electrcite/energy_1_76.csv\n",
      "/Users/eliotsouthon/Desktop/POC/Data/Data France/Data_silver_france/Data_electrcite/energy_1_75.csv\n",
      "/Users/eliotsouthon/Desktop/POC/Data/Data France/Data_silver_france/Data_electrcite/energy_1_11.csv\n",
      "/Users/eliotsouthon/Desktop/POC/Data/Data France/Data_silver_france/Data_electrcite/energy_1_28.csv\n",
      "/Users/eliotsouthon/Desktop/POC/Data/Data France/Data_silver_france/Data_electrcite/energy_1_32.csv\n",
      "/Users/eliotsouthon/Desktop/POC/Data/Data France/Data_silver_france/Data_electrcite/energy_1_27.csv\n",
      "/Users/eliotsouthon/Desktop/POC/Data/Data France/Data_silver_france/Data_electrcite/energy_1_24.csv\n",
      "/Users/eliotsouthon/Desktop/POC/Data/Data France/Data_silver_france/Data_electrcite/energy_1_93.csv\n",
      "/Users/eliotsouthon/Desktop/POC/Data/Data France/Data_silver_france/Data_electrcite/energy_1_44.csv\n",
      "/Users/eliotsouthon/Desktop/POC/Data/Data France/Data_silver_france/Data_electrcite/energy_1_52.csv\n",
      "/Users/eliotsouthon/Desktop/POC/Data/Data France/Data_silver_france/Data_electrcite/energy_1_84.csv\n",
      "/Users/eliotsouthon/Desktop/POC/Data/Data France/Data_silver_france/Data_electrcite/energy_1_53.csv\n",
      "/Users/eliotsouthon/Desktop/POC/Data/Data France/Data_silver_france/Data_weather/weather_1_51.csv\n",
      "/Users/eliotsouthon/Desktop/POC/Data/Data France/Data_silver_france/Data_weather/weather_1_75.csv\n"
     ]
    }
   ],
   "source": [
    "csv_file_paths=ma_bibliotheque.path_data('/Users/eliotsouthon/Desktop/POC/Data/Data France/Data_silver_france')\n",
    "# Affiche la liste des chemins pour vérifier\n",
    "print(\"Liste des chemins des fichiers CSV :\")\n",
    "for path in csv_file_paths:\n",
    "    print(path)"
   ]
  },
  {
   "cell_type": "code",
   "execution_count": 10,
   "metadata": {},
   "outputs": [],
   "source": [
    "# Définir les chemins vers les fichiers\n",
    "energy_file = \"/Users/eliotsouthon/Desktop/POC/Data/Data France/Data_silver_france/Data_electrcite/energy_1_75.csv\"\n",
    "weather_file = \"/Users/eliotsouthon/Desktop/POC/Data/Data France/Data_silver_france/Data_weather/weather_1_75.csv\""
   ]
  },
  {
   "cell_type": "code",
   "execution_count": 11,
   "metadata": {},
   "outputs": [],
   "source": [
    "# Fonction unique\n",
    "\n",
    "def preprocess_energy_weather(energy_path, weather_path, sep=';', encoding='utf-8', rolling_window=3):\n",
    "    \"\"\"\n",
    "    Préprocesser les fichiers CSV pour les données énergétiques et météorologiques :\n",
    "    - Convertir la colonne 'Date' en format datetime.\n",
    "    - Fusionner les deux DataFrames sur la colonne 'Date'.\n",
    "    - Imputer les valeurs manquantes avec une moyenne glissante sur les colonnes numériques.\n",
    "    - Supprimer les lignes restantes contenant des valeurs manquantes.\n",
    "\n",
    "    :param energy_path: Chemin du fichier CSV des données énergétiques.\n",
    "    :param weather_path: Chemin du fichier CSV des données météorologiques.\n",
    "    :param sep: Séparateur des colonnes dans les fichiers CSV.\n",
    "    :param encoding: Encodage des fichiers CSV.\n",
    "    :param rolling_window: Taille de la fenêtre glissante pour l'imputation.\n",
    "    :return: DataFrame fusionné et nettoyé.\n",
    "    \"\"\"\n",
    "    # Charger les données\n",
    "    df_energy = pd.read_csv(energy_path, sep=sep, encoding=encoding)\n",
    "    df_weather = pd.read_csv(weather_path, sep=sep, encoding=encoding)\n",
    "    \n",
    "    # Convertir les colonnes 'Date' en datetime\n",
    "    df_energy['Date'] = pd.to_datetime(df_energy['Date'])\n",
    "    df_weather['Date'] = pd.to_datetime(df_weather['Date'])\n",
    "    \n",
    "    # Fusionner les deux DataFrames sur 'Date'\n",
    "    df_fusion = pd.merge(df_energy, df_weather, on=\"Date\", how=\"inner\")\n",
    "    \n",
    "    # Identifier les colonnes numériques pour l'imputation\n",
    "    numeric_columns = df_fusion.select_dtypes(include=['number']).columns\n",
    "    \n",
    "    # Imputer les valeurs manquantes avec une moyenne glissante\n",
    "    for col in numeric_columns:\n",
    "        df_fusion[col] = df_fusion[col].fillna(\n",
    "            df_fusion[col].rolling(window=rolling_window, min_periods=1).mean()\n",
    "        )\n",
    "    \n",
    "    # Supprimer les lignes contenant des valeurs manquantes\n",
    "    df_fusion = df_fusion.dropna()\n",
    "    \n",
    "    return df_fusion\n"
   ]
  },
  {
   "cell_type": "code",
   "execution_count": null,
   "metadata": {},
   "outputs": [],
   "source": [
    "# Appeler la fonction\n",
    "df_cleaned = preprocess_energy_weather(energy_file, weather_file)"
   ]
  },
  {
   "cell_type": "code",
   "execution_count": 13,
   "metadata": {},
   "outputs": [
    {
     "data": {
      "text/html": [
       "<div>\n",
       "<style scoped>\n",
       "    .dataframe tbody tr th:only-of-type {\n",
       "        vertical-align: middle;\n",
       "    }\n",
       "\n",
       "    .dataframe tbody tr th {\n",
       "        vertical-align: top;\n",
       "    }\n",
       "\n",
       "    .dataframe thead th {\n",
       "        text-align: right;\n",
       "    }\n",
       "</style>\n",
       "<table border=\"1\" class=\"dataframe\">\n",
       "  <thead>\n",
       "    <tr style=\"text-align: right;\">\n",
       "      <th></th>\n",
       "      <th>Date</th>\n",
       "      <th>Consommation brute électricité (MW)</th>\n",
       "      <th>Temperature</th>\n",
       "      <th>Humidity</th>\n",
       "      <th>Wind Force</th>\n",
       "    </tr>\n",
       "  </thead>\n",
       "  <tbody>\n",
       "    <tr>\n",
       "      <th>1</th>\n",
       "      <td>2013-01-01 00:00:00+00:00</td>\n",
       "      <td>5468.0</td>\n",
       "      <td>8.0</td>\n",
       "      <td>88.0</td>\n",
       "      <td>5.5</td>\n",
       "    </tr>\n",
       "    <tr>\n",
       "      <th>2</th>\n",
       "      <td>2013-01-01 00:00:00+00:00</td>\n",
       "      <td>5468.0</td>\n",
       "      <td>8.3</td>\n",
       "      <td>88.0</td>\n",
       "      <td>6.1</td>\n",
       "    </tr>\n",
       "    <tr>\n",
       "      <th>3</th>\n",
       "      <td>2013-01-01 00:00:00+00:00</td>\n",
       "      <td>5468.0</td>\n",
       "      <td>8.0</td>\n",
       "      <td>95.0</td>\n",
       "      <td>5.8</td>\n",
       "    </tr>\n",
       "    <tr>\n",
       "      <th>4</th>\n",
       "      <td>2013-01-01 01:00:00+00:00</td>\n",
       "      <td>5479.5</td>\n",
       "      <td>6.8</td>\n",
       "      <td>91.5</td>\n",
       "      <td>10.0</td>\n",
       "    </tr>\n",
       "    <tr>\n",
       "      <th>5</th>\n",
       "      <td>2013-01-01 01:00:00+00:00</td>\n",
       "      <td>5479.5</td>\n",
       "      <td>9.0</td>\n",
       "      <td>82.0</td>\n",
       "      <td>3.2</td>\n",
       "    </tr>\n",
       "  </tbody>\n",
       "</table>\n",
       "</div>"
      ],
      "text/plain": [
       "                       Date  Consommation brute électricité (MW)  Temperature  \\\n",
       "1 2013-01-01 00:00:00+00:00                               5468.0          8.0   \n",
       "2 2013-01-01 00:00:00+00:00                               5468.0          8.3   \n",
       "3 2013-01-01 00:00:00+00:00                               5468.0          8.0   \n",
       "4 2013-01-01 01:00:00+00:00                               5479.5          6.8   \n",
       "5 2013-01-01 01:00:00+00:00                               5479.5          9.0   \n",
       "\n",
       "   Humidity  Wind Force  \n",
       "1      88.0         5.5  \n",
       "2      88.0         6.1  \n",
       "3      95.0         5.8  \n",
       "4      91.5        10.0  \n",
       "5      82.0         3.2  "
      ]
     },
     "execution_count": 13,
     "metadata": {},
     "output_type": "execute_result"
    }
   ],
   "source": [
    "df_cleaned.head()"
   ]
  },
  {
   "cell_type": "code",
   "execution_count": 14,
   "metadata": {},
   "outputs": [
    {
     "name": "stdout",
     "output_type": "stream",
     "text": [
      "Analyse des valeurs manquantes par colonne :\n",
      " Date                                   0\n",
      "Consommation brute électricité (MW)    0\n",
      "Temperature                            0\n",
      "Humidity                               0\n",
      "Wind Force                             0\n",
      "dtype: int64\n",
      "\n",
      "Nombre total de lignes: 30672\n",
      "\n",
      "Lignes contenant des valeurs manquantes: 0\n",
      "\n",
      "Le DataFrame est complet (aucune valeur manquante).\n"
     ]
    }
   ],
   "source": [
    "ma_bibliotheque.check_completeness(df_cleaned)"
   ]
  },
  {
   "cell_type": "code",
   "execution_count": 16,
   "metadata": {},
   "outputs": [],
   "source": [
    "numero_region=75\n",
    "numero_pays=ma_bibliotheque.get_country_iso_numeric(\"france\")\n",
    "\n",
    "# Construire le nom du fichier en utilisant la première valeur de la colonne 'Code INSEE région'\n",
    "nom_fichier = f\"e_w_{numero_pays}_{numero_region}.csv\"\n",
    "\n",
    "# Définir le chemin complet en joignant le chemin et le nom du fichier\n",
    "chemin_complet = f\"/Users/eliotsouthon/Desktop/POC/Data/Data France/Data_silver_france/{nom_fichier}\"\n",
    "\n",
    "# Sauvegarder le DataFrame en CSV\n",
    "df_cleaned.to_csv(chemin_complet, index=False, sep=';', encoding='utf-8')"
   ]
  },
  {
   "cell_type": "code",
   "execution_count": null,
   "metadata": {},
   "outputs": [],
   "source": []
  }
 ],
 "metadata": {
  "kernelspec": {
   "display_name": ".venv",
   "language": "python",
   "name": "python3"
  },
  "language_info": {
   "codemirror_mode": {
    "name": "ipython",
    "version": 3
   },
   "file_extension": ".py",
   "mimetype": "text/x-python",
   "name": "python",
   "nbconvert_exporter": "python",
   "pygments_lexer": "ipython3",
   "version": "3.9.6"
  }
 },
 "nbformat": 4,
 "nbformat_minor": 2
}
