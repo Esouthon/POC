{
 "cells": [
  {
   "cell_type": "code",
   "execution_count": 1,
   "metadata": {},
   "outputs": [],
   "source": [
    "import sys\n",
    "import os\n",
    "import pandas as pd\n",
    "import matplotlib.pyplot as plt\n",
    "# Remplacez 'chemin/vers/votre/projet/module' par le chemin absolu réel vers le dossier \"module\" via la commande pwd\n",
    "module_path = '/Users/eliotsouthon/Desktop/POC/POC/Code/Modules'  \n",
    "sys.path.append(module_path)\n",
    "import ma_bibliotheque "
   ]
  },
  {
   "cell_type": "code",
   "execution_count": 2,
   "metadata": {},
   "outputs": [
    {
     "name": "stdout",
     "output_type": "stream",
     "text": [
      "Liste des chemins des fichiers CSV :\n",
      "/Users/eliotsouthon/Desktop/POC/POC/Data/Data_silver/weather_1_51.csv\n",
      "/Users/eliotsouthon/Desktop/POC/POC/Data/Data_silver/e_w_1_51.csv\n",
      "/Users/eliotsouthon/Desktop/POC/POC/Data/Data_silver/energy_1_51.csv\n"
     ]
    }
   ],
   "source": [
    "csv_file_paths=ma_bibliotheque.path_data('/Users/eliotsouthon/Desktop/POC/POC/Data/Data_silver')\n",
    "# Affiche la liste des chemins pour vérifier\n",
    "print(\"Liste des chemins des fichiers CSV :\")\n",
    "for path in csv_file_paths:\n",
    "    print(path)"
   ]
  },
  {
   "cell_type": "code",
   "execution_count": 3,
   "metadata": {},
   "outputs": [],
   "source": [
    "# Load the data\n",
    "df_energy = pd.read_csv(csv_file_paths[2], sep=';',encoding='utf-8') \n",
    "df_weather = pd.read_csv(csv_file_paths[0], sep=';',encoding='utf-8') \n",
    "df_energy['Date'] = pd.to_datetime(df_energy['Date'])\n",
    "df_weather['Date'] = pd.to_datetime(df_energy['Date'])"
   ]
  },
  {
   "cell_type": "code",
   "execution_count": 4,
   "metadata": {},
   "outputs": [
    {
     "name": "stdout",
     "output_type": "stream",
     "text": [
      "(99300, 2)\n",
      "                       Date  Consommation brute électricité (MW) - RTE\n",
      "0 2012-12-31 23:00:00+00:00                                     4943.0\n",
      "1 2013-01-01 00:00:00+00:00                                     4825.5\n",
      "2 2013-01-01 01:00:00+00:00                                     4876.0\n",
      "3 2013-01-01 02:00:00+00:00                                     4642.5\n",
      "4 2013-01-01 03:00:00+00:00                                     4390.0\n"
     ]
    }
   ],
   "source": [
    "print(df_energy.shape)\n",
    "print(df_energy.head())"
   ]
  },
  {
   "cell_type": "code",
   "execution_count": 5,
   "metadata": {},
   "outputs": [
    {
     "name": "stdout",
     "output_type": "stream",
     "text": [
      "(504523, 4)\n",
      "    T   U  FF                      Date\n",
      "0 NaN NaN NaN 2012-12-31 23:00:00+00:00\n",
      "1 NaN NaN NaN 2013-01-01 00:00:00+00:00\n",
      "2 NaN NaN NaN 2013-01-01 01:00:00+00:00\n",
      "3 NaN NaN NaN 2013-01-01 02:00:00+00:00\n",
      "4 NaN NaN NaN 2013-01-01 03:00:00+00:00\n"
     ]
    }
   ],
   "source": [
    "print(df_weather.shape)\n",
    "print(df_weather.head())"
   ]
  },
  {
   "cell_type": "code",
   "execution_count": 6,
   "metadata": {},
   "outputs": [
    {
     "data": {
      "text/plain": [
       "Timestamp('2012-12-31 23:00:00+0000', tz='UTC')"
      ]
     },
     "execution_count": 6,
     "metadata": {},
     "output_type": "execute_result"
    }
   ],
   "source": [
    "df_energy['Date'][0]\n"
   ]
  },
  {
   "cell_type": "code",
   "execution_count": 7,
   "metadata": {},
   "outputs": [
    {
     "data": {
      "text/plain": [
       "Timestamp('2012-12-31 23:00:00+0000', tz='UTC')"
      ]
     },
     "execution_count": 7,
     "metadata": {},
     "output_type": "execute_result"
    }
   ],
   "source": [
    "df_weather['Date'][0]\n"
   ]
  },
  {
   "cell_type": "code",
   "execution_count": 8,
   "metadata": {},
   "outputs": [
    {
     "name": "stdout",
     "output_type": "stream",
     "text": [
      "<class 'pandas._libs.tslibs.timestamps.Timestamp'>\n"
     ]
    }
   ],
   "source": [
    "print(type(df_energy['Date'][0]))\n"
   ]
  },
  {
   "cell_type": "code",
   "execution_count": 9,
   "metadata": {},
   "outputs": [
    {
     "name": "stdout",
     "output_type": "stream",
     "text": [
      "<class 'pandas._libs.tslibs.timestamps.Timestamp'>\n"
     ]
    }
   ],
   "source": [
    "print(type(df_weather['Date'][0]))"
   ]
  },
  {
   "cell_type": "code",
   "execution_count": 10,
   "metadata": {},
   "outputs": [
    {
     "data": {
      "text/plain": [
       "(99300, 5)"
      ]
     },
     "execution_count": 10,
     "metadata": {},
     "output_type": "execute_result"
    }
   ],
   "source": [
    "df_fusion=pd.merge(df_energy,df_weather, on=[\"Date\"], how=\"inner\")\n",
    "df_fusion.shape"
   ]
  },
  {
   "cell_type": "code",
   "execution_count": 11,
   "metadata": {},
   "outputs": [
    {
     "data": {
      "text/html": [
       "<div>\n",
       "<style scoped>\n",
       "    .dataframe tbody tr th:only-of-type {\n",
       "        vertical-align: middle;\n",
       "    }\n",
       "\n",
       "    .dataframe tbody tr th {\n",
       "        vertical-align: top;\n",
       "    }\n",
       "\n",
       "    .dataframe thead th {\n",
       "        text-align: right;\n",
       "    }\n",
       "</style>\n",
       "<table border=\"1\" class=\"dataframe\">\n",
       "  <thead>\n",
       "    <tr style=\"text-align: right;\">\n",
       "      <th></th>\n",
       "      <th>Date</th>\n",
       "      <th>Consommation brute électricité (MW) - RTE</th>\n",
       "      <th>T</th>\n",
       "      <th>U</th>\n",
       "      <th>FF</th>\n",
       "    </tr>\n",
       "  </thead>\n",
       "  <tbody>\n",
       "    <tr>\n",
       "      <th>0</th>\n",
       "      <td>2012-12-31 23:00:00+00:00</td>\n",
       "      <td>4943.0</td>\n",
       "      <td>NaN</td>\n",
       "      <td>NaN</td>\n",
       "      <td>NaN</td>\n",
       "    </tr>\n",
       "    <tr>\n",
       "      <th>1</th>\n",
       "      <td>2013-01-01 00:00:00+00:00</td>\n",
       "      <td>4825.5</td>\n",
       "      <td>NaN</td>\n",
       "      <td>NaN</td>\n",
       "      <td>NaN</td>\n",
       "    </tr>\n",
       "    <tr>\n",
       "      <th>2</th>\n",
       "      <td>2013-01-01 01:00:00+00:00</td>\n",
       "      <td>4876.0</td>\n",
       "      <td>NaN</td>\n",
       "      <td>NaN</td>\n",
       "      <td>NaN</td>\n",
       "    </tr>\n",
       "    <tr>\n",
       "      <th>3</th>\n",
       "      <td>2013-01-01 02:00:00+00:00</td>\n",
       "      <td>4642.5</td>\n",
       "      <td>NaN</td>\n",
       "      <td>NaN</td>\n",
       "      <td>NaN</td>\n",
       "    </tr>\n",
       "    <tr>\n",
       "      <th>4</th>\n",
       "      <td>2013-01-01 03:00:00+00:00</td>\n",
       "      <td>4390.0</td>\n",
       "      <td>NaN</td>\n",
       "      <td>NaN</td>\n",
       "      <td>NaN</td>\n",
       "    </tr>\n",
       "  </tbody>\n",
       "</table>\n",
       "</div>"
      ],
      "text/plain": [
       "                       Date  Consommation brute électricité (MW) - RTE   T  \\\n",
       "0 2012-12-31 23:00:00+00:00                                     4943.0 NaN   \n",
       "1 2013-01-01 00:00:00+00:00                                     4825.5 NaN   \n",
       "2 2013-01-01 01:00:00+00:00                                     4876.0 NaN   \n",
       "3 2013-01-01 02:00:00+00:00                                     4642.5 NaN   \n",
       "4 2013-01-01 03:00:00+00:00                                     4390.0 NaN   \n",
       "\n",
       "    U  FF  \n",
       "0 NaN NaN  \n",
       "1 NaN NaN  \n",
       "2 NaN NaN  \n",
       "3 NaN NaN  \n",
       "4 NaN NaN  "
      ]
     },
     "execution_count": 11,
     "metadata": {},
     "output_type": "execute_result"
    }
   ],
   "source": [
    "df_fusion.head()"
   ]
  },
  {
   "cell_type": "code",
   "execution_count": 12,
   "metadata": {},
   "outputs": [
    {
     "data": {
      "text/plain": [
       "[<matplotlib.lines.Line2D at 0x1212f65b0>]"
      ]
     },
     "execution_count": 12,
     "metadata": {},
     "output_type": "execute_result"
    },
    {
     "data": {
      "image/png": "[encoded data removed]",
      "text/plain": [
       "<Figure size 640x480 with 1 Axes>"
      ]
     },
     "metadata": {},
     "output_type": "display_data"
    }
   ],
   "source": [
    "plt.plot(df_fusion['Date'], df_fusion['Consommation brute électricité (MW) - RTE'])\n"
   ]
  },
  {
   "cell_type": "code",
   "execution_count": 13,
   "metadata": {},
   "outputs": [
    {
     "name": "stdout",
     "output_type": "stream",
     "text": [
      "Analyse des valeurs manquantes par colonne :\n",
      " Date                                             0\n",
      "Consommation brute électricité (MW) - RTE        0\n",
      "T                                             1638\n",
      "U                                            73056\n",
      "FF                                           73172\n",
      "dtype: int64\n",
      "\n",
      "Nombre total de lignes: 99300\n",
      "\n",
      "Lignes contenant des valeurs manquantes: 73188\n",
      "\n",
      "Le DataFrame contient des valeurs manquantes.\n"
     ]
    }
   ],
   "source": [
    "ma_bibliotheque.check_completeness(df_fusion)"
   ]
  },
  {
   "cell_type": "code",
   "execution_count": 14,
   "metadata": {},
   "outputs": [],
   "source": [
    "# Imputer les valeurs manquantes en utilisant une fenêtre glissante\n",
    "df_fusion['T'] = df_fusion['T'].fillna(df_fusion['T'].rolling(window=3, min_periods=1).mean())\n",
    "df_fusion['U'] = df_fusion['U'].fillna(df_fusion['U'].rolling(window=3, min_periods=1).mean())\n",
    "df_fusion['FF'] = df_fusion['FF'].fillna(df_fusion['FF'].rolling(window=3, min_periods=1).mean())\n",
    "\n",
    "# Supprimer les lignes contenant des valeurs manquantes\n",
    "df_fusion = df_fusion.dropna()\n",
    "\n"
   ]
  },
  {
   "cell_type": "code",
   "execution_count": 15,
   "metadata": {},
   "outputs": [
    {
     "name": "stdout",
     "output_type": "stream",
     "text": [
      "Analyse des valeurs manquantes par colonne :\n",
      " Date                                         0\n",
      "Consommation brute électricité (MW) - RTE    0\n",
      "T                                            0\n",
      "U                                            0\n",
      "FF                                           0\n",
      "dtype: int64\n",
      "\n",
      "Nombre total de lignes: 26183\n",
      "\n",
      "Lignes contenant des valeurs manquantes: 0\n",
      "\n",
      "Le DataFrame est complet (aucune valeur manquante).\n"
     ]
    }
   ],
   "source": [
    "ma_bibliotheque.check_completeness(df_fusion)"
   ]
  },
  {
   "cell_type": "code",
   "execution_count": null,
   "metadata": {},
   "outputs": [],
   "source": [
    "numero_region=ma_bibliotheque.get_country_iso_numeric(\"france\")\n",
    "numero_pays=1\n",
    "\n",
    "# Construire le nom du fichier en utilisant la première valeur de la colonne 'Code INSEE région'\n",
    "nom_fichier = f\"e_w_{numero_pays}_{numero_region}.csv\"\n",
    "\n",
    "# Définir le chemin complet en joignant le chemin et le nom du fichier\n",
    "chemin_complet = f\"/Users/eliotsouthon/Desktop/POC/POC/Data/Data_silver/{nom_fichier}\"\n",
    "\n",
    "# Sauvegarder le DataFrame en CSV\n",
    "df_fusion.to_csv(chemin_complet, index=False, sep=';', encoding='utf-8')"
   ]
  },
  {
   "cell_type": "code",
   "execution_count": null,
   "metadata": {},
   "outputs": [],
   "source": []
  }
 ],
 "metadata": {
  "kernelspec": {
   "display_name": ".venv",
   "language": "python",
   "name": "python3"
  },
  "language_info": {
   "codemirror_mode": {
    "name": "ipython",
    "version": 3
   },
   "file_extension": ".py",
   "mimetype": "text/x-python",
   "name": "python",
   "nbconvert_exporter": "python",
   "pygments_lexer": "ipython3",
   "version": "3.9.6"
  }
 },
 "nbformat": 4,
 "nbformat_minor": 2
}
