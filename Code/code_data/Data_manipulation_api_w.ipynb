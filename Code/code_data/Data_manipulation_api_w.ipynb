{
 "cells": [
  {
   "cell_type": "code",
   "execution_count": null,
   "metadata": {},
   "outputs": [],
   "source": [
    "import sys\n",
    "import os\n",
    "import pandas as pd\n",
    "import matplotlib.pyplot as plt\n",
    "\n",
    "# Remplacez 'chemin/vers/votre/projet/module' par le chemin absolu réel vers le dossier \"module\" via la commande pwd\n",
    "module_path = '/Users/eliotsouthon/Desktop/POC/POC/Code/Modules'  \n",
    "sys.path.append(module_path)\n",
    "import ma_bibliotheque "
   ]
  },
  {
   "cell_type": "code",
   "execution_count": null,
   "metadata": {},
   "outputs": [],
   "source": []
  }
 ],
 "metadata": {
  "language_info": {
   "name": "python"
  }
 },
 "nbformat": 4,
 "nbformat_minor": 2
}
