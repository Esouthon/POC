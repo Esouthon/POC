{
 "cells": [
  {
   "cell_type": "markdown",
   "metadata": {},
   "source": [
    "## 1. Module"
   ]
  },
  {
   "cell_type": "code",
   "execution_count": 1,
   "metadata": {},
   "outputs": [],
   "source": [
    "import sys\n",
    "import os\n",
    "import pandas as pd\n",
    "import matplotlib.pyplot as plt"
   ]
  },
  {
   "cell_type": "code",
   "execution_count": 2,
   "metadata": {},
   "outputs": [],
   "source": [
    "# Remplacez 'chemin/vers/votre/projet/module' par le chemin absolu réel vers le dossier \"module\" via la commande pwd\n",
    "module_path = '/Users/eliotsouthon/Desktop/POC/POC/Code/Modules'  \n",
    "sys.path.append(module_path)\n",
    "import ma_bibliotheque "
   ]
  },
  {
   "cell_type": "markdown",
   "metadata": {},
   "source": [
    "## 2. Data"
   ]
  },
  {
   "cell_type": "code",
   "execution_count": 3,
   "metadata": {},
   "outputs": [
    {
     "data": {
      "text/plain": [
       "'/Users/eliotsouthon/Desktop/POC/POC/Code'"
      ]
     },
     "execution_count": 3,
     "metadata": {},
     "output_type": "execute_result"
    }
   ],
   "source": [
    "pwd"
   ]
  },
  {
   "cell_type": "code",
   "execution_count": 4,
   "metadata": {},
   "outputs": [
    {
     "name": "stdout",
     "output_type": "stream",
     "text": [
      "Liste des chemins des fichiers CSV :\n",
      "/Users/eliotsouthon/Desktop/POC/POC/Data/Data_raw/France/tmy_48.920_4.821_2005_2023.csv\n",
      "/Users/eliotsouthon/Desktop/POC/POC/Data/Data_raw/France/w_51_raw.csv\n",
      "/Users/eliotsouthon/Desktop/POC/POC/Data/Data_raw/France/consommation-quotidienne-brute-regionale.csv\n"
     ]
    }
   ],
   "source": [
    "csv_file_paths=ma_bibliotheque.path_data('/Users/eliotsouthon/Desktop/POC/POC/Data/Data_raw')\n",
    "# Affiche la liste des chemins pour vérifier\n",
    "print(\"Liste des chemins des fichiers CSV :\")\n",
    "for path in csv_file_paths:\n",
    "    print(path)"
   ]
  },
  {
   "cell_type": "code",
   "execution_count": 5,
   "metadata": {},
   "outputs": [
    {
     "name": "stdout",
     "output_type": "stream",
     "text": [
      "(504523, 204)    NUM_POSTE NOM_USUEL        LAT    LON  ALTI  AAAAMMJJHH  RR1  QRR1  DRR1  \\\n",
      "0   51009001   ANGLURE  48.586333  3.819    77  2020020106  NaN   NaN   NaN   \n",
      "1   51009001   ANGLURE  48.586333  3.819    77  2020020206  NaN   NaN   NaN   \n",
      "2   51009001   ANGLURE  48.586333  3.819    77  2020020306  NaN   NaN   NaN   \n",
      "3   51009001   ANGLURE  48.586333  3.819    77  2020020406  NaN   NaN   NaN   \n",
      "4   51009001   ANGLURE  48.586333  3.819    77  2020020506  NaN   NaN   NaN   \n",
      "\n",
      "   QDRR1  ...  INS  QINS  INS2  QINS2  TLAGON  QTLAGON  TVEGETAUX  QTVEGETAUX  \\\n",
      "0    NaN  ...  NaN   NaN   NaN    NaN     NaN      NaN        NaN         NaN   \n",
      "1    NaN  ...  NaN   NaN   NaN    NaN     NaN      NaN        NaN         NaN   \n",
      "2    NaN  ...  NaN   NaN   NaN    NaN     NaN      NaN        NaN         NaN   \n",
      "3    NaN  ...  NaN   NaN   NaN    NaN     NaN      NaN        NaN         NaN   \n",
      "4    NaN  ...  NaN   NaN   NaN    NaN     NaN      NaN        NaN         NaN   \n",
      "\n",
      "   ECOULEMENT  QECOULEMENT  \n",
      "0         NaN          NaN  \n",
      "1         NaN          NaN  \n",
      "2         NaN          NaN  \n",
      "3         NaN          NaN  \n",
      "4         NaN          NaN  \n",
      "\n",
      "[5 rows x 204 columns]\n"
     ]
    }
   ],
   "source": [
    "# Load the data\n",
    "file_path = csv_file_paths[1]  # Update this to the actual path if necessary\n",
    "df_tempo = pd.read_csv(file_path, sep=';',encoding='utf-8') # Les 16 premieres lignes sont inutiles\n",
    "print(df_tempo.shape,df_tempo.head())"
   ]
  },
  {
   "cell_type": "markdown",
   "metadata": {},
   "source": [
    "#### Where :\n",
    "AAAAMMJJHH  : date de la mesure (annÃ©e mois jour heure)<br>\n",
    "T : tempÃ©rature sous abri instantanÃ©e (en Â°C et 1/10)<br>\n",
    "U : humiditÃ© relative (en %) <br>\n",
    "GLO : rayonnement global horaire en heure UTC (en J/cm2)<br>\n",
    "FF : force du vent moyennÃ© sur 10 mn, mesurÃ©e Ã  10 m (en m/s et 1/10)<br>\n"
   ]
  },
  {
   "cell_type": "code",
   "execution_count": 6,
   "metadata": {},
   "outputs": [
    {
     "data": {
      "text/html": [
       "<div>\n",
       "<style scoped>\n",
       "    .dataframe tbody tr th:only-of-type {\n",
       "        vertical-align: middle;\n",
       "    }\n",
       "\n",
       "    .dataframe tbody tr th {\n",
       "        vertical-align: top;\n",
       "    }\n",
       "\n",
       "    .dataframe thead th {\n",
       "        text-align: right;\n",
       "    }\n",
       "</style>\n",
       "<table border=\"1\" class=\"dataframe\">\n",
       "  <thead>\n",
       "    <tr style=\"text-align: right;\">\n",
       "      <th></th>\n",
       "      <th>T</th>\n",
       "      <th>U</th>\n",
       "      <th>FF</th>\n",
       "      <th>Date</th>\n",
       "    </tr>\n",
       "  </thead>\n",
       "  <tbody>\n",
       "    <tr>\n",
       "      <th>0</th>\n",
       "      <td>NaN</td>\n",
       "      <td>NaN</td>\n",
       "      <td>NaN</td>\n",
       "      <td>2020-02-01 00:06:00+00:00</td>\n",
       "    </tr>\n",
       "    <tr>\n",
       "      <th>1</th>\n",
       "      <td>NaN</td>\n",
       "      <td>NaN</td>\n",
       "      <td>NaN</td>\n",
       "      <td>2020-02-02 00:06:00+00:00</td>\n",
       "    </tr>\n",
       "    <tr>\n",
       "      <th>2</th>\n",
       "      <td>NaN</td>\n",
       "      <td>NaN</td>\n",
       "      <td>NaN</td>\n",
       "      <td>2020-02-03 00:06:00+00:00</td>\n",
       "    </tr>\n",
       "    <tr>\n",
       "      <th>3</th>\n",
       "      <td>NaN</td>\n",
       "      <td>NaN</td>\n",
       "      <td>NaN</td>\n",
       "      <td>2020-02-04 00:06:00+00:00</td>\n",
       "    </tr>\n",
       "    <tr>\n",
       "      <th>4</th>\n",
       "      <td>NaN</td>\n",
       "      <td>NaN</td>\n",
       "      <td>NaN</td>\n",
       "      <td>2020-02-05 00:06:00+00:00</td>\n",
       "    </tr>\n",
       "  </tbody>\n",
       "</table>\n",
       "</div>"
      ],
      "text/plain": [
       "    T   U  FF                       Date\n",
       "0 NaN NaN NaN  2020-02-01 00:06:00+00:00\n",
       "1 NaN NaN NaN  2020-02-02 00:06:00+00:00\n",
       "2 NaN NaN NaN  2020-02-03 00:06:00+00:00\n",
       "3 NaN NaN NaN  2020-02-04 00:06:00+00:00\n",
       "4 NaN NaN NaN  2020-02-05 00:06:00+00:00"
      ]
     },
     "execution_count": 6,
     "metadata": {},
     "output_type": "execute_result"
    }
   ],
   "source": [
    "df = df_tempo[['AAAAMMJJHH', 'T', 'U', 'FF']].copy()\n",
    "\n",
    "# Conversion en format datetime avec timezone\n",
    "\n",
    "df['Date'] = pd.to_datetime(df['AAAAMMJJHH'], format='%Y%m%d%H%M')\n",
    "\n",
    "df['Date'] = df['Date'].dt.strftime('%Y-%m-%dT%H:%M:%S+00:00')\n",
    "df['Date'] = pd.to_datetime(df['Date']).dt.strftime('%Y-%m-%d %H:%M:%S%z')\n",
    "df['Date'] = df['Date'].str.replace(r'(\\+|-)(\\d{2})(\\d{2})$', r'\\1\\2:\\3', regex=True)\n",
    "df.drop(columns=[\"AAAAMMJJHH\"], inplace=True)\n",
    "df.head()\n"
   ]
  },
  {
   "cell_type": "code",
   "execution_count": 7,
   "metadata": {},
   "outputs": [
    {
     "name": "stdout",
     "output_type": "stream",
     "text": [
      "Analyse des valeurs manquantes par colonne :\n",
      " T         4872\n",
      "U       294395\n",
      "FF      321228\n",
      "Date         0\n",
      "dtype: int64\n",
      "\n",
      "Nombre total de lignes: 504523\n",
      "\n",
      "Lignes contenant des valeurs manquantes: 321262\n",
      "\n",
      "Le DataFrame contient des valeurs manquantes.\n"
     ]
    }
   ],
   "source": [
    "# Vérifier la présence de valeurs manquantes\n",
    "def check_completeness(df):\n",
    "    missing_count = df.isna().sum()\n",
    "    total_rows = len(df)\n",
    "    print(\"Analyse des valeurs manquantes par colonne :\\n\", missing_count)\n",
    "    print(\"\\nNombre total de lignes:\", total_rows)\n",
    "    print(\"\\nLignes contenant des valeurs manquantes:\", df.isna().any(axis=1).sum())\n",
    "    if missing_count.sum() == 0:\n",
    "        print(\"\\nLe DataFrame est complet (aucune valeur manquante).\")\n",
    "    else:\n",
    "        print(\"\\nLe DataFrame contient des valeurs manquantes.\")\n",
    "\n",
    "check_completeness(df)"
   ]
  },
  {
   "cell_type": "code",
   "execution_count": 8,
   "metadata": {},
   "outputs": [
    {
     "name": "stdout",
     "output_type": "stream",
     "text": [
      "Index(['T', 'U', 'FF', 'Date'], dtype='object')\n"
     ]
    }
   ],
   "source": [
    "print(df.columns)  # Affiche les colonnes du DataFrame"
   ]
  },
  {
   "cell_type": "code",
   "execution_count": 9,
   "metadata": {},
   "outputs": [
    {
     "data": {
      "text/plain": [
       "\"# S'assurer que la colonne 'Darte' est bien l'index\\ndf.set_index('Date', inplace=True)\\n\\n# Tracer les différentes séries temporelles avec des dates bien gérées\\nplt.figure(figsize=(14, 8))\\n\\n# Tracer chaque série temporelle\\nfor i, column in enumerate(['T', 'U', 'GLO', 'FF'], 1):\\n    plt.subplot(2, 2, i)\\n    plt.plot(df.index, df[column], label=column)\\n    plt.xlabel('Date')\\n    plt.ylabel(column)\\n    plt.title(f'{column} au fil du temps')\\n    plt.xticks(rotation=45)\\n\\n    # Ajuster l'intervalle des dates pour qu'elles soient visibles sur l'axe des x\\n    plt.gca().xaxis.set_major_formatter(plt.matplotlib.dates.DateFormatter('%Y-%m-%d %H:%M'))\\n    plt.gca().xaxis.set_major_locator(plt.matplotlib.dates.HourLocator(interval=24))  # Intervalle de 24 heures pour plus de lisibilité\\n    plt.gcf().autofmt_xdate()  # Rotation automatique des dates pour les rendre lisibles\\n\\n    plt.legend()\\n\\nplt.tight_layout()\\nplt.show()\""
      ]
     },
     "execution_count": 9,
     "metadata": {},
     "output_type": "execute_result"
    }
   ],
   "source": [
    "\"\"\"# S'assurer que la colonne 'Darte' est bien l'index\n",
    "df.set_index('Date', inplace=True)\n",
    "\n",
    "# Tracer les différentes séries temporelles avec des dates bien gérées\n",
    "plt.figure(figsize=(14, 8))\n",
    "\n",
    "# Tracer chaque série temporelle\n",
    "for i, column in enumerate(['T', 'U', 'GLO', 'FF'], 1):\n",
    "    plt.subplot(2, 2, i)\n",
    "    plt.plot(df.index, df[column], label=column)\n",
    "    plt.xlabel('Date')\n",
    "    plt.ylabel(column)\n",
    "    plt.title(f'{column} au fil du temps')\n",
    "    plt.xticks(rotation=45)\n",
    "\n",
    "    # Ajuster l'intervalle des dates pour qu'elles soient visibles sur l'axe des x\n",
    "    plt.gca().xaxis.set_major_formatter(plt.matplotlib.dates.DateFormatter('%Y-%m-%d %H:%M'))\n",
    "    plt.gca().xaxis.set_major_locator(plt.matplotlib.dates.HourLocator(interval=24))  # Intervalle de 24 heures pour plus de lisibilité\n",
    "    plt.gcf().autofmt_xdate()  # Rotation automatique des dates pour les rendre lisibles\n",
    "\n",
    "    plt.legend()\n",
    "\n",
    "plt.tight_layout()\n",
    "plt.show()\"\"\""
   ]
  },
  {
   "cell_type": "code",
   "execution_count": 10,
   "metadata": {},
   "outputs": [
    {
     "data": {
      "text/html": [
       "<div>\n",
       "<style scoped>\n",
       "    .dataframe tbody tr th:only-of-type {\n",
       "        vertical-align: middle;\n",
       "    }\n",
       "\n",
       "    .dataframe tbody tr th {\n",
       "        vertical-align: top;\n",
       "    }\n",
       "\n",
       "    .dataframe thead th {\n",
       "        text-align: right;\n",
       "    }\n",
       "</style>\n",
       "<table border=\"1\" class=\"dataframe\">\n",
       "  <thead>\n",
       "    <tr style=\"text-align: right;\">\n",
       "      <th></th>\n",
       "      <th>T</th>\n",
       "      <th>U</th>\n",
       "      <th>FF</th>\n",
       "      <th>Date</th>\n",
       "    </tr>\n",
       "  </thead>\n",
       "  <tbody>\n",
       "    <tr>\n",
       "      <th>0</th>\n",
       "      <td>NaN</td>\n",
       "      <td>NaN</td>\n",
       "      <td>NaN</td>\n",
       "      <td>2020-02-01 00:06:00+00:00</td>\n",
       "    </tr>\n",
       "    <tr>\n",
       "      <th>1</th>\n",
       "      <td>NaN</td>\n",
       "      <td>NaN</td>\n",
       "      <td>NaN</td>\n",
       "      <td>2020-02-02 00:06:00+00:00</td>\n",
       "    </tr>\n",
       "    <tr>\n",
       "      <th>2</th>\n",
       "      <td>NaN</td>\n",
       "      <td>NaN</td>\n",
       "      <td>NaN</td>\n",
       "      <td>2020-02-03 00:06:00+00:00</td>\n",
       "    </tr>\n",
       "    <tr>\n",
       "      <th>3</th>\n",
       "      <td>NaN</td>\n",
       "      <td>NaN</td>\n",
       "      <td>NaN</td>\n",
       "      <td>2020-02-04 00:06:00+00:00</td>\n",
       "    </tr>\n",
       "    <tr>\n",
       "      <th>4</th>\n",
       "      <td>NaN</td>\n",
       "      <td>NaN</td>\n",
       "      <td>NaN</td>\n",
       "      <td>2020-02-05 00:06:00+00:00</td>\n",
       "    </tr>\n",
       "  </tbody>\n",
       "</table>\n",
       "</div>"
      ],
      "text/plain": [
       "    T   U  FF                       Date\n",
       "0 NaN NaN NaN  2020-02-01 00:06:00+00:00\n",
       "1 NaN NaN NaN  2020-02-02 00:06:00+00:00\n",
       "2 NaN NaN NaN  2020-02-03 00:06:00+00:00\n",
       "3 NaN NaN NaN  2020-02-04 00:06:00+00:00\n",
       "4 NaN NaN NaN  2020-02-05 00:06:00+00:00"
      ]
     },
     "execution_count": 10,
     "metadata": {},
     "output_type": "execute_result"
    }
   ],
   "source": [
    "\n",
    "df.head()"
   ]
  },
  {
   "cell_type": "code",
   "execution_count": 11,
   "metadata": {},
   "outputs": [],
   "source": [
    "numero_region=51\n",
    "numero_pays=1\n",
    "# Construire le nom du fichier en utilisant la première valeur de la colonne 'Code INSEE région'\n",
    "nom_fichier = f\"weather_{numero_pays}_{numero_region}.csv\"\n",
    "# Définir le chemin complet en joignant le chemin et le nom du fichier\n",
    "chemin_complet = f\"/Users/eliotsouthon/Desktop/POC/POC/Data/Data_silver/{nom_fichier}\"\n",
    "\n",
    "# Sauvegarder le DataFrame en CSV\n",
    "df.to_csv(chemin_complet, index=False, sep=';', encoding='utf-8')"
   ]
  },
  {
   "cell_type": "code",
   "execution_count": null,
   "metadata": {},
   "outputs": [],
   "source": []
  }
 ],
 "metadata": {
  "kernelspec": {
   "display_name": ".venv",
   "language": "python",
   "name": "python3"
  },
  "language_info": {
   "codemirror_mode": {
    "name": "ipython",
    "version": 3
   },
   "file_extension": ".py",
   "mimetype": "text/x-python",
   "name": "python",
   "nbconvert_exporter": "python",
   "pygments_lexer": "ipython3",
   "version": "3.9.6"
  }
 },
 "nbformat": 4,
 "nbformat_minor": 2
}
