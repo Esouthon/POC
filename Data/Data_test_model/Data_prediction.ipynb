{
 "cells": [
  {
   "cell_type": "code",
   "execution_count": 1,
   "metadata": {},
   "outputs": [
    {
     "name": "stderr",
     "output_type": "stream",
     "text": [
      "/Users/eliotsouthon/Desktop/POC/.venv/lib/python3.9/site-packages/urllib3/__init__.py:35: NotOpenSSLWarning: urllib3 v2 only supports OpenSSL 1.1.1+, currently the 'ssl' module is compiled with 'LibreSSL 2.8.3'. See: https://github.com/urllib3/urllib3/issues/3020\n",
      "  warnings.warn(\n"
     ]
    }
   ],
   "source": [
    "import requests\n",
    "import csv\n",
    "import datetime\n",
    "import sys\n",
    "import pandas as pd"
   ]
  },
  {
   "cell_type": "code",
   "execution_count": 2,
   "metadata": {},
   "outputs": [],
   "source": [
    "# Remplacez 'chemin/vers/votre/projet/module' par le chemin absolu réel vers le dossier \"module\" via la commande pwd\n",
    "module_path = '/Users/eliotsouthon/Desktop/POC/Code/Modules'  \n",
    "sys.path.append(module_path)\n",
    "import ma_bibliotheque \n"
   ]
  },
  {
   "cell_type": "code",
   "execution_count": 18,
   "metadata": {},
   "outputs": [],
   "source": [
    "\n",
    "def get_weather_forecast_3h(lat, lon, api_key):\n",
    "    url = f\"https://api.openweathermap.org/data/2.5/forecast?lat={lat}&lon={lon}&appid={api_key}&units=metric\"\n",
    "    \n",
    "    # Requête vers l'API\n",
    "    response = requests.get(url)\n",
    "    \n",
    "    # Vérification du succès de la requête\n",
    "    if response.status_code == 200:\n",
    "        data = response.json()\n",
    "        \n",
    "        # Extraire les prévisions toutes les 3 heures pour les 5 jours\n",
    "        forecast_data = []\n",
    "        for forecast in data['list']:\n",
    "            forecast_info = {\n",
    "                \"date\": datetime.datetime.fromtimestamp(forecast['dt']).strftime('%Y-%m-%d %H:%M:%S'),\n",
    "                \"location\": f\"{lat},{lon}\",\n",
    "                \"temperature\": forecast['main']['temp'],\n",
    "                \"humidity\": forecast['main']['humidity'],\n",
    "                \"wind_speed\": forecast['wind']['speed']\n",
    "            }\n",
    "            forecast_data.append(forecast_info)\n",
    "        \n",
    "        return pd.DataFrame(forecast_data)\n",
    "    else:\n",
    "        print(\"Erreur lors de la récupération des données:\", response.status_code)\n",
    "        return None\n",
    "\n",
    "def get_hourly_interpolated_data(lat, lon, api_key, filename='weather_forecast.csv'):\n",
    "    # Étape 1 : Récupérer les prévisions 3 heures\n",
    "    df= get_weather_forecast_3h(lat, lon, api_key)\n",
    "    # Assurer que la colonne \"date\" est de type datetime\n",
    "    df['date'] = pd.to_datetime(df['date'])\n",
    "            \n",
    "    # Utiliser la fonction d'interpolation de votre bibliothèque\n",
    "    df_interpolated = ma_bibliotheque.interpolate_to_hourly(df)\n",
    "            \n",
    "    return df_interpolated\n"
   ]
  },
  {
   "cell_type": "code",
   "execution_count": 19,
   "metadata": {},
   "outputs": [
    {
     "name": "stderr",
     "output_type": "stream",
     "text": [
      "/Users/eliotsouthon/Desktop/POC/Code/Modules/ma_bibliotheque.py:181: FutureWarning: 'H' is deprecated and will be removed in a future version, please use 'h' instead.\n",
      "  df_hourly = df.resample('H').interpolate(method='linear')\n",
      "/Users/eliotsouthon/Desktop/POC/Code/Modules/ma_bibliotheque.py:181: FutureWarning: DataFrame.interpolate with object dtype is deprecated and will raise in a future version. Call obj.infer_objects(copy=False) before interpolating instead.\n",
      "  df_hourly = df.resample('H').interpolate(method='linear')\n"
     ]
    },
    {
     "data": {
      "text/html": [
       "<div>\n",
       "<style scoped>\n",
       "    .dataframe tbody tr th:only-of-type {\n",
       "        vertical-align: middle;\n",
       "    }\n",
       "\n",
       "    .dataframe tbody tr th {\n",
       "        vertical-align: top;\n",
       "    }\n",
       "\n",
       "    .dataframe thead th {\n",
       "        text-align: right;\n",
       "    }\n",
       "</style>\n",
       "<table border=\"1\" class=\"dataframe\">\n",
       "  <thead>\n",
       "    <tr style=\"text-align: right;\">\n",
       "      <th></th>\n",
       "      <th>date</th>\n",
       "      <th>location</th>\n",
       "      <th>temperature</th>\n",
       "      <th>humidity</th>\n",
       "      <th>wind_speed</th>\n",
       "    </tr>\n",
       "  </thead>\n",
       "  <tbody>\n",
       "    <tr>\n",
       "      <th>0</th>\n",
       "      <td>2024-11-20 19:00:00</td>\n",
       "      <td>48.8566,2.3522</td>\n",
       "      <td>6.330000</td>\n",
       "      <td>65.000000</td>\n",
       "      <td>3.720000</td>\n",
       "    </tr>\n",
       "    <tr>\n",
       "      <th>1</th>\n",
       "      <td>2024-11-20 20:00:00</td>\n",
       "      <td>NaN</td>\n",
       "      <td>6.153333</td>\n",
       "      <td>63.333333</td>\n",
       "      <td>3.493333</td>\n",
       "    </tr>\n",
       "    <tr>\n",
       "      <th>2</th>\n",
       "      <td>2024-11-20 21:00:00</td>\n",
       "      <td>NaN</td>\n",
       "      <td>5.976667</td>\n",
       "      <td>61.666667</td>\n",
       "      <td>3.266667</td>\n",
       "    </tr>\n",
       "    <tr>\n",
       "      <th>3</th>\n",
       "      <td>2024-11-20 22:00:00</td>\n",
       "      <td>48.8566,2.3522</td>\n",
       "      <td>5.800000</td>\n",
       "      <td>60.000000</td>\n",
       "      <td>3.040000</td>\n",
       "    </tr>\n",
       "    <tr>\n",
       "      <th>4</th>\n",
       "      <td>2024-11-20 23:00:00</td>\n",
       "      <td>NaN</td>\n",
       "      <td>5.460000</td>\n",
       "      <td>59.000000</td>\n",
       "      <td>2.686667</td>\n",
       "    </tr>\n",
       "  </tbody>\n",
       "</table>\n",
       "</div>"
      ],
      "text/plain": [
       "                 date        location  temperature   humidity  wind_speed\n",
       "0 2024-11-20 19:00:00  48.8566,2.3522     6.330000  65.000000    3.720000\n",
       "1 2024-11-20 20:00:00             NaN     6.153333  63.333333    3.493333\n",
       "2 2024-11-20 21:00:00             NaN     5.976667  61.666667    3.266667\n",
       "3 2024-11-20 22:00:00  48.8566,2.3522     5.800000  60.000000    3.040000\n",
       "4 2024-11-20 23:00:00             NaN     5.460000  59.000000    2.686667"
      ]
     },
     "execution_count": 19,
     "metadata": {},
     "output_type": "execute_result"
    }
   ],
   "source": [
    "# Exemple d'utilisation\n",
    "lat = 48.8566  # Latitude de Paris\n",
    "lon = 2.3522   # Longitude de Paris\n",
    "api_key = \"36669f134b2c1c983dbba764cc582c16\"  # Remplacer par ta clé API\n",
    "\n",
    "forecast_data = get_hourly_interpolated_data(lat, lon, api_key)\n",
    "\n",
    "forecast_data.head()"
   ]
  },
  {
   "cell_type": "code",
   "execution_count": 3,
   "metadata": {},
   "outputs": [],
   "source": [
    "csv_file_path='/Users/eliotsouthon/Desktop/POC/Data/Data_test_model/weather_forecast_3h.csv'"
   ]
  },
  {
   "cell_type": "code",
   "execution_count": 4,
   "metadata": {},
   "outputs": [],
   "source": [
    "def process_weather_3h_from_file(file_path, pays='france',pays_abreviation='fr', scale='region'):\n",
    "    # 1. Lire le dataframe depuis le fichier\n",
    "    df = pd.read_csv(file_path)\n",
    "    \n",
    "    # 2. Suppression de la colonne 'location'\n",
    "    df = df.drop(columns=['location'], errors='ignore')\n",
    "    \n",
    "    # 3. Renommage des colonnes\n",
    "    df = df.rename(columns={\n",
    "        'date': 'Date',\n",
    "        'temperature': 'Temperature',\n",
    "        'humidity': 'Humidity',\n",
    "        'wind_speed': 'Wind Force'\n",
    "    })\n",
    "    \n",
    "    # 4. Ajouter le pays 'france'\n",
    "    df = ma_bibliotheque.add_country(df, pays)\n",
    "    \n",
    "    # 5. Ajouter l'échelle 'region'\n",
    "    df = ma_bibliotheque.add_scale(df, scale)\n",
    "    \n",
    "    # 6. Convertir la colonne 'Date' au format datetime\n",
    "    df['Date'] = pd.to_datetime(df['Date'])\n",
    "    \n",
    "    # 7. Ajouter les colonnes de jours fériés et des jours de la semaine pour la France\n",
    "    df = ma_bibliotheque.add_holiday_and_day_columns(df, pays_abreviation.upper())\n",
    "    \n",
    "    # 8. Ajouter les colonnes des mois et des heures\n",
    "    df = ma_bibliotheque.add_month_and_hours(df)\n",
    "    \n",
    "\n",
    "    # Retourner le dataframe final\n",
    "    return df"
   ]
  },
  {
   "cell_type": "code",
   "execution_count": null,
   "metadata": {},
   "outputs": [],
   "source": [
    "df_processed = process_weather_data_from_file(csv_file_path)\n",
    "df_processed.head()\n"
   ]
  },
  {
   "cell_type": "code",
   "execution_count": null,
   "metadata": {},
   "outputs": [],
   "source": [
    "numero_region=75\n",
    "pays= ma_bibliotheque.get_country_iso_numeric(\"france\")\n",
    "# Construire le nom du fichier en utilisant la première valeur de la colonne 'Code INSEE région'\n",
    "nom_fichier = f\"prediction_{pays}_{numero_region}.csv\"\n",
    "\n",
    "# Définir le chemin complet en joignant le chemin et le nom du fichier\n",
    "chemin_complet = f\"/Users/eliotsouthon/Desktop/POC/Data/Data_test_model/{nom_fichier}\"\n",
    "\n",
    "# Sauvegarder le DataFrame en CSV\n",
    "df_processed.to_csv(chemin_complet, index=False, sep=';', encoding='utf-8')"
   ]
  },
  {
   "cell_type": "code",
   "execution_count": null,
   "metadata": {},
   "outputs": [],
   "source": []
  }
 ],
 "metadata": {
  "kernelspec": {
   "display_name": ".venv",
   "language": "python",
   "name": "python3"
  },
  "language_info": {
   "codemirror_mode": {
    "name": "ipython",
    "version": 3
   },
   "file_extension": ".py",
   "mimetype": "text/x-python",
   "name": "python",
   "nbconvert_exporter": "python",
   "pygments_lexer": "ipython3",
   "version": "3.9.6"
  }
 },
 "nbformat": 4,
 "nbformat_minor": 2
}
