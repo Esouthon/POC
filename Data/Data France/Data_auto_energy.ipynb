{
 "cells": [
  {
   "cell_type": "markdown",
   "metadata": {},
   "source": [
    "## 1. Modules"
   ]
  },
  {
   "cell_type": "code",
   "execution_count": 1,
   "metadata": {},
   "outputs": [],
   "source": [
    "import sys\n",
    "import os\n",
    "import pandas as pd\n",
    "import matplotlib.pyplot as plt\n",
    "from tqdm import tqdm\n"
   ]
  },
  {
   "cell_type": "code",
   "execution_count": 2,
   "metadata": {},
   "outputs": [],
   "source": [
    "# Remplacez 'chemin/vers/votre/projet/module' par le chemin absolu réel vers le dossier \"module\" via la commande pwd\n",
    "module_path = '/Users/eliotsouthon/Desktop/POC/POC/Code/Modules'  \n",
    "sys.path.append(module_path)\n",
    "import ma_bibliotheque "
   ]
  },
  {
   "cell_type": "markdown",
   "metadata": {},
   "source": [
    "## 1. Vérification des données des régions"
   ]
  },
  {
   "cell_type": "code",
   "execution_count": 3,
   "metadata": {},
   "outputs": [
    {
     "data": {
      "text/plain": [
       "'/Users/eliotsouthon/Desktop/POC/POC/Data/Data France'"
      ]
     },
     "execution_count": 3,
     "metadata": {},
     "output_type": "execute_result"
    }
   ],
   "source": [
    "pwd"
   ]
  },
  {
   "cell_type": "code",
   "execution_count": null,
   "metadata": {},
   "outputs": [
    {
     "name": "stdout",
     "output_type": "stream",
     "text": [
      "Liste des chemins des fichiers CSV :\n",
      "/Users/eliotsouthon/Desktop/POC/POC/Data/Data France/Data_bronse_france/Data_electricité/Bourgogne-Franche-Comté/Bourgogne-Franche-Comté.csv\n",
      "/Users/eliotsouthon/Desktop/POC/POC/Data/Data France/Data_bronse_france/Data_electricité/Hauts-de-France/Hauts-de-France.csv\n",
      "/Users/eliotsouthon/Desktop/POC/POC/Data/Data France/Data_bronse_france/Data_electricité/Nouvelle-Aquitaine/Nouvelle-Aquitaine.csv\n",
      "/Users/eliotsouthon/Desktop/POC/POC/Data/Data France/Data_bronse_france/Data_electricité/Grand Est/Grand Est.csv\n",
      "/Users/eliotsouthon/Desktop/POC/POC/Data/Data France/Data_bronse_france/Data_electricité/Provence-Alpes-Côte d'Azur/Provence-Alpes-Côte d'Azur.csv\n",
      "/Users/eliotsouthon/Desktop/POC/POC/Data/Data France/Data_bronse_france/Data_electricité/Centre-Val de Loire/Centre-Val de Loire.csv\n",
      "/Users/eliotsouthon/Desktop/POC/POC/Data/Data France/Data_bronse_france/Data_electricité/Pays de la Loire/Pays de la Loire.csv\n",
      "/Users/eliotsouthon/Desktop/POC/POC/Data/Data France/Data_bronse_france/Data_electricité/Normandie/Normandie.csv\n",
      "/Users/eliotsouthon/Desktop/POC/POC/Data/Data France/Data_bronse_france/Data_electricité/Occitanie/Occitanie.csv\n",
      "/Users/eliotsouthon/Desktop/POC/POC/Data/Data France/Data_bronse_france/Data_electricité/Auvergne-Rhône-Alpes/Auvergne-Rhône-Alpes.csv\n",
      "/Users/eliotsouthon/Desktop/POC/POC/Data/Data France/Data_bronse_france/Data_electricité/Bretagne/Bretagne.csv\n",
      "/Users/eliotsouthon/Desktop/POC/POC/Data/Data France/Data_bronse_france/Data_electricité/Île-de-France/Île-de-France.csv\n"
     ]
    }
   ],
   "source": [
    "csv_file_paths=ma_bibliotheque.path_data('Data_bronse_france/Data_electricité')\n",
    "# Affiche la liste des chemins pour vérifier\n",
    "print(\"Liste des chemins des fichiers CSV :\")\n",
    "for path in csv_file_paths:\n",
    "    print(path)"
   ]
  },
  {
   "cell_type": "code",
   "execution_count": null,
   "metadata": {},
   "outputs": [
    {
     "name": "stderr",
     "output_type": "stream",
     "text": [
      "  0%|          | 0/12 [00:00<?, ?it/s]"
     ]
    },
    {
     "name": "stdout",
     "output_type": "stream",
     "text": [
      "Le fichier sélectionné est /Users/eliotsouthon/Desktop/POC/POC/Data/Data France/Data_bronse_france/Data_electricité/Bourgogne-Franche-Comté/Bourgogne-Franche-Comté.csv\n"
     ]
    },
    {
     "name": "stderr",
     "output_type": "stream",
     "text": [
      "  8%|▊         | 1/12 [00:00<00:10,  1.00it/s]"
     ]
    },
    {
     "name": "stdout",
     "output_type": "stream",
     "text": [
      "Le fichier sélectionné est /Users/eliotsouthon/Desktop/POC/POC/Data/Data France/Data_bronse_france/Data_electricité/Hauts-de-France/Hauts-de-France.csv\n"
     ]
    },
    {
     "name": "stderr",
     "output_type": "stream",
     "text": [
      " 17%|█▋        | 2/12 [00:01<00:09,  1.01it/s]"
     ]
    },
    {
     "name": "stdout",
     "output_type": "stream",
     "text": [
      "Le fichier sélectionné est /Users/eliotsouthon/Desktop/POC/POC/Data/Data France/Data_bronse_france/Data_electricité/Nouvelle-Aquitaine/Nouvelle-Aquitaine.csv\n"
     ]
    },
    {
     "name": "stderr",
     "output_type": "stream",
     "text": [
      " 25%|██▌       | 3/12 [00:03<00:09,  1.01s/it]"
     ]
    },
    {
     "name": "stdout",
     "output_type": "stream",
     "text": [
      "Le fichier sélectionné est /Users/eliotsouthon/Desktop/POC/POC/Data/Data France/Data_bronse_france/Data_electricité/Grand Est/Grand Est.csv\n"
     ]
    },
    {
     "name": "stderr",
     "output_type": "stream",
     "text": [
      " 33%|███▎      | 4/12 [00:03<00:07,  1.01it/s]"
     ]
    },
    {
     "name": "stdout",
     "output_type": "stream",
     "text": [
      "Le fichier sélectionné est /Users/eliotsouthon/Desktop/POC/POC/Data/Data France/Data_bronse_france/Data_electricité/Provence-Alpes-Côte d'Azur/Provence-Alpes-Côte d'Azur.csv\n"
     ]
    },
    {
     "name": "stderr",
     "output_type": "stream",
     "text": [
      "/var/folders/_p/lntvskx96x323cvnklm36kvh0000gn/T/ipykernel_16478/961801780.py:5: DtypeWarning: Columns (8) have mixed types. Specify dtype option on import or set low_memory=False.\n",
      "  df = pd.read_csv(file_path, sep=';')\n",
      " 42%|████▏     | 5/12 [00:04<00:06,  1.00it/s]"
     ]
    },
    {
     "name": "stdout",
     "output_type": "stream",
     "text": [
      "Le fichier sélectionné est /Users/eliotsouthon/Desktop/POC/POC/Data/Data France/Data_bronse_france/Data_electricité/Centre-Val de Loire/Centre-Val de Loire.csv\n"
     ]
    },
    {
     "name": "stderr",
     "output_type": "stream",
     "text": [
      " 50%|█████     | 6/12 [00:05<00:05,  1.01it/s]"
     ]
    },
    {
     "name": "stdout",
     "output_type": "stream",
     "text": [
      "Le fichier sélectionné est /Users/eliotsouthon/Desktop/POC/POC/Data/Data France/Data_bronse_france/Data_electricité/Pays de la Loire/Pays de la Loire.csv\n"
     ]
    },
    {
     "name": "stderr",
     "output_type": "stream",
     "text": [
      " 58%|█████▊    | 7/12 [00:06<00:04,  1.01it/s]"
     ]
    },
    {
     "name": "stdout",
     "output_type": "stream",
     "text": [
      "Le fichier sélectionné est /Users/eliotsouthon/Desktop/POC/POC/Data/Data France/Data_bronse_france/Data_electricité/Normandie/Normandie.csv\n"
     ]
    },
    {
     "name": "stderr",
     "output_type": "stream",
     "text": [
      " 67%|██████▋   | 8/12 [00:07<00:03,  1.02it/s]"
     ]
    },
    {
     "name": "stdout",
     "output_type": "stream",
     "text": [
      "Le fichier sélectionné est /Users/eliotsouthon/Desktop/POC/POC/Data/Data France/Data_bronse_france/Data_electricité/Occitanie/Occitanie.csv\n"
     ]
    },
    {
     "name": "stderr",
     "output_type": "stream",
     "text": [
      " 75%|███████▌  | 9/12 [00:08<00:02,  1.01it/s]"
     ]
    },
    {
     "name": "stdout",
     "output_type": "stream",
     "text": [
      "Le fichier sélectionné est /Users/eliotsouthon/Desktop/POC/POC/Data/Data France/Data_bronse_france/Data_electricité/Auvergne-Rhône-Alpes/Auvergne-Rhône-Alpes.csv\n"
     ]
    },
    {
     "name": "stderr",
     "output_type": "stream",
     "text": [
      " 83%|████████▎ | 10/12 [00:09<00:01,  1.01it/s]"
     ]
    },
    {
     "name": "stdout",
     "output_type": "stream",
     "text": [
      "Le fichier sélectionné est /Users/eliotsouthon/Desktop/POC/POC/Data/Data France/Data_bronse_france/Data_electricité/Bretagne/Bretagne.csv\n"
     ]
    },
    {
     "name": "stderr",
     "output_type": "stream",
     "text": [
      " 92%|█████████▏| 11/12 [00:10<00:00,  1.02it/s]"
     ]
    },
    {
     "name": "stdout",
     "output_type": "stream",
     "text": [
      "Le fichier sélectionné est /Users/eliotsouthon/Desktop/POC/POC/Data/Data France/Data_bronse_france/Data_electricité/Île-de-France/Île-de-France.csv\n"
     ]
    },
    {
     "name": "stderr",
     "output_type": "stream",
     "text": [
      "100%|██████████| 12/12 [00:11<00:00,  1.01it/s]\n"
     ]
    }
   ],
   "source": [
    "# Load the data\n",
    "for k in tqdm(range(len(csv_file_paths))):\n",
    "    file_path = csv_file_paths[k]\n",
    "    print('Le fichier sélectionné est',file_path)  # Update this to the actual path if necessary\n",
    "    df = pd.read_csv(file_path, sep=';')\n",
    "    #Convertir les données de chaine de caracteres en time\n",
    "    df['Date - Heure']=pd.to_datetime(df['Date - Heure'])\n",
    "    # Convertir la colonne \"Heure\" en format datetime avec seulement l'heure\n",
    "    df['Heure'] = pd.to_datetime(df['Heure'], format='%H:%M').dt.time\n",
    "\n",
    "    #Stocke le numéro du département \n",
    "    departement=df['Code INSEE région'][0]\n",
    "    pays=1\n",
    "\n",
    "    # Supprime les colonnes de texte\n",
    "\n",
    "    df.drop(columns=[\"Date\"], inplace=True)\n",
    "    df.drop(columns=[\"Heure\"], inplace=True)\n",
    "    df.drop(columns=[\"Statut - RTE\"], inplace=True)\n",
    "    df.drop(columns=[\"Consommation brute gaz (MW PCS 0°C) - GRTgaz\"], inplace=True)\n",
    "    df.drop(columns=[\"Statut - GRTgaz\"], inplace=True)\n",
    "    df.drop(columns=[\"Consommation brute gaz (MW PCS 0°C) - Teréga\"], inplace=True)\n",
    "    df.drop(columns=[\"Statut - Teréga\"], inplace=True)\n",
    "    df.drop(columns=[\"Consommation brute gaz totale (MW PCS 0°C)\"], inplace=True)\n",
    "    df.drop(columns=[\"Région\"], inplace=True)\n",
    "    df.drop(columns=[\"Consommation brute totale (MW)\"], inplace=True)\n",
    "    df.drop(columns=[\"Code INSEE région\"], inplace=True)\n",
    "    df = df.rename(columns={'Consommation brute électricité (MW) - RTE': 'Consommation brute électricité (MW)'})\n",
    "\n",
    "\n",
    "    # Extraire uniquement l'heure sans les minutes pour faire la moyenne par heure entière\n",
    "    df['Date'] = df['Date - Heure'].dt.floor('h')\n",
    "\n",
    "    # Calculer la moyenne des données pour chaque heure\n",
    "    df_moyenne_horaire = df.groupby('Date').mean()\n",
    "\n",
    "    # Supprime les colonnes de Date - Heure\n",
    "    df_moyenne_horaire.drop(columns=[\"Date - Heure\"], inplace=True)\n",
    "    # Réinitialiser l'index si besoin\n",
    "    df_moyenne_horaire = df_moyenne_horaire.reset_index()\n",
    "\n",
    "\n",
    "    # Construire le nom du fichier en utilisant la première valeur de la colonne 'Code INSEE région'\n",
    "    nom_fichier = f\"energy_{pays}_{departement}.csv\"\n",
    "\n",
    "    # Définir le chemin complet en joignant le chemin et le nom du fichier\n",
    "    chemin_complet = f\"Data_silver_france/Data_electrcite/{nom_fichier}\"\n",
    "\n",
    "    # Sauvegarder le DataFrame en CSV\n",
    "    df_moyenne_horaire.to_csv(chemin_complet, index=False, sep=';', encoding='utf-8')\n"
   ]
  },
  {
   "cell_type": "markdown",
   "metadata": {},
   "source": []
  }
 ],
 "metadata": {
  "kernelspec": {
   "display_name": ".venv",
   "language": "python",
   "name": "python3"
  },
  "language_info": {
   "codemirror_mode": {
    "name": "ipython",
    "version": 3
   },
   "file_extension": ".py",
   "mimetype": "text/x-python",
   "name": "python",
   "nbconvert_exporter": "python",
   "pygments_lexer": "ipython3",
   "version": "3.9.6"
  }
 },
 "nbformat": 4,
 "nbformat_minor": 2
}
