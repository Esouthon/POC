{
 "cells": [
  {
   "cell_type": "code",
   "execution_count": 1,
   "metadata": {},
   "outputs": [],
   "source": [
    "import pandas as pd\n",
    "import matplotlib.pyplot as plt\n",
    "import seaborn as sns\n",
    "import sys\n",
    "from tqdm import tqdm\n",
    "import holidays\n",
    "# Remplacez 'chemin/vers/votre/projet/module' par le chemin absolu réel vers le dossier \"module\" via la commande pwd\n",
    "module_path = '/Users/eliotsouthon/Desktop/POC/Code/Modules'  \n",
    "sys.path.append(module_path)\n",
    "import ma_bibliotheque "
   ]
  },
  {
   "cell_type": "code",
   "execution_count": 2,
   "metadata": {},
   "outputs": [
    {
     "name": "stdout",
     "output_type": "stream",
     "text": [
      "Liste des chemins des fichiers CSV :\n",
      "/Users/eliotsouthon/Desktop/POC/Data/Data France/Data_silver_france/e_w_250_75.csv\n",
      "/Users/eliotsouthon/Desktop/POC/Data/Data France/Data_silver_france/Data_electrcite/energy_250_75.csv\n",
      "/Users/eliotsouthon/Desktop/POC/Data/Data France/Data_silver_france/Data_electrcite/energy_250_76.csv\n",
      "/Users/eliotsouthon/Desktop/POC/Data/Data France/Data_silver_france/Data_electrcite/energy_250_11.csv\n",
      "/Users/eliotsouthon/Desktop/POC/Data/Data France/Data_silver_france/Data_electrcite/energy_250_28.csv\n",
      "/Users/eliotsouthon/Desktop/POC/Data/Data France/Data_silver_france/Data_electrcite/energy_250_24.csv\n",
      "/Users/eliotsouthon/Desktop/POC/Data/Data France/Data_silver_france/Data_electrcite/energy_250_27.csv\n",
      "/Users/eliotsouthon/Desktop/POC/Data/Data France/Data_silver_france/Data_electrcite/energy_250_32.csv\n",
      "/Users/eliotsouthon/Desktop/POC/Data/Data France/Data_silver_france/Data_electrcite/energy_250_53.csv\n",
      "/Users/eliotsouthon/Desktop/POC/Data/Data France/Data_silver_france/Data_electrcite/energy_250_84.csv\n",
      "/Users/eliotsouthon/Desktop/POC/Data/Data France/Data_silver_france/Data_electrcite/energy_250_52.csv\n",
      "/Users/eliotsouthon/Desktop/POC/Data/Data France/Data_silver_france/Data_electrcite/energy_250_44.csv\n",
      "/Users/eliotsouthon/Desktop/POC/Data/Data France/Data_silver_france/Data_electrcite/energy_250_93.csv\n",
      "/Users/eliotsouthon/Desktop/POC/Data/Data France/Data_silver_france/Data_weather/weather_1_51.csv\n",
      "/Users/eliotsouthon/Desktop/POC/Data/Data France/Data_silver_france/Data_weather/weather_250_75.csv\n"
     ]
    }
   ],
   "source": [
    "csv_file_paths=ma_bibliotheque.path_data('/Users/eliotsouthon/Desktop/POC/Data/Data France/Data_silver_france')\n",
    "# Affiche la liste des chemins pour vérifier\n",
    "print(\"Liste des chemins des fichiers CSV :\")\n",
    "for path in csv_file_paths:\n",
    "    print(path)"
   ]
  },
  {
   "cell_type": "code",
   "execution_count": 8,
   "metadata": {},
   "outputs": [],
   "source": [
    "csv_file_path = \"/Users/eliotsouthon/Desktop/POC/Data/Data France/Data_silver_france/e_w_250_75.csv\""
   ]
  },
  {
   "cell_type": "code",
   "execution_count": 9,
   "metadata": {},
   "outputs": [
    {
     "data": {
      "text/html": [
       "<div>\n",
       "<style scoped>\n",
       "    .dataframe tbody tr th:only-of-type {\n",
       "        vertical-align: middle;\n",
       "    }\n",
       "\n",
       "    .dataframe tbody tr th {\n",
       "        vertical-align: top;\n",
       "    }\n",
       "\n",
       "    .dataframe thead th {\n",
       "        text-align: right;\n",
       "    }\n",
       "</style>\n",
       "<table border=\"1\" class=\"dataframe\">\n",
       "  <thead>\n",
       "    <tr style=\"text-align: right;\">\n",
       "      <th></th>\n",
       "      <th>Date</th>\n",
       "      <th>Consommation brute électricité (MW)</th>\n",
       "      <th>Temperature</th>\n",
       "      <th>Humidity</th>\n",
       "      <th>Wind Force</th>\n",
       "    </tr>\n",
       "  </thead>\n",
       "  <tbody>\n",
       "    <tr>\n",
       "      <th>0</th>\n",
       "      <td>2013-01-01 00:00:00+00:00</td>\n",
       "      <td>5468.0</td>\n",
       "      <td>8.0</td>\n",
       "      <td>88.0</td>\n",
       "      <td>5.5</td>\n",
       "    </tr>\n",
       "    <tr>\n",
       "      <th>1</th>\n",
       "      <td>2013-01-01 00:00:00+00:00</td>\n",
       "      <td>5468.0</td>\n",
       "      <td>8.3</td>\n",
       "      <td>88.0</td>\n",
       "      <td>6.1</td>\n",
       "    </tr>\n",
       "    <tr>\n",
       "      <th>2</th>\n",
       "      <td>2013-01-01 00:00:00+00:00</td>\n",
       "      <td>5468.0</td>\n",
       "      <td>8.0</td>\n",
       "      <td>95.0</td>\n",
       "      <td>5.8</td>\n",
       "    </tr>\n",
       "    <tr>\n",
       "      <th>3</th>\n",
       "      <td>2013-01-01 01:00:00+00:00</td>\n",
       "      <td>5479.5</td>\n",
       "      <td>6.8</td>\n",
       "      <td>91.5</td>\n",
       "      <td>10.0</td>\n",
       "    </tr>\n",
       "    <tr>\n",
       "      <th>4</th>\n",
       "      <td>2013-01-01 01:00:00+00:00</td>\n",
       "      <td>5479.5</td>\n",
       "      <td>9.0</td>\n",
       "      <td>82.0</td>\n",
       "      <td>3.2</td>\n",
       "    </tr>\n",
       "  </tbody>\n",
       "</table>\n",
       "</div>"
      ],
      "text/plain": [
       "                        Date  Consommation brute électricité (MW)  \\\n",
       "0  2013-01-01 00:00:00+00:00                               5468.0   \n",
       "1  2013-01-01 00:00:00+00:00                               5468.0   \n",
       "2  2013-01-01 00:00:00+00:00                               5468.0   \n",
       "3  2013-01-01 01:00:00+00:00                               5479.5   \n",
       "4  2013-01-01 01:00:00+00:00                               5479.5   \n",
       "\n",
       "   Temperature  Humidity  Wind Force  \n",
       "0          8.0      88.0         5.5  \n",
       "1          8.3      88.0         6.1  \n",
       "2          8.0      95.0         5.8  \n",
       "3          6.8      91.5        10.0  \n",
       "4          9.0      82.0         3.2  "
      ]
     },
     "execution_count": 9,
     "metadata": {},
     "output_type": "execute_result"
    }
   ],
   "source": [
    "df = pd.read_csv(csv_file_path, sep=';')\n",
    "df.head()"
   ]
  },
  {
   "cell_type": "code",
   "execution_count": 4,
   "metadata": {},
   "outputs": [],
   "source": [
    "# Fonction unique\n",
    "def process_dataframe(csv_file_path):\n",
    "    \"\"\"\n",
    "    Charge un fichier CSV et applique une série de transformations au dataframe.\n",
    "    \n",
    "    Parameters:\n",
    "        csv_file_path (str): Le chemin vers le fichier CSV.\n",
    "    \n",
    "    Returns:\n",
    "        pd.DataFrame: Le dataframe transformé.\n",
    "    \"\"\"\n",
    "    # Charger le fichier CSV avec un séparateur ';'\n",
    "    df = pd.read_csv(csv_file_path, sep=';')\n",
    "    \n",
    "    # Ajouter le pays 'france'\n",
    "    df = ma_bibliotheque.add_country(df, 'france')\n",
    "    \n",
    "    # Ajouter l'échelle 'region'\n",
    "    df = ma_bibliotheque.add_scale(df, 'region')\n",
    "    \n",
    "    # Convertir la colonne 'Date' au format datetime\n",
    "    df['Date'] = pd.to_datetime(df['Date'])\n",
    "    \n",
    "    # Ajouter les colonnes de jours fériés et des jours de la semaine pour la France\n",
    "    df = ma_bibliotheque.add_holiday_and_day_columns(df, 'FR')\n",
    "    \n",
    "    # Ajouter les colonnes des mois et des heures\n",
    "    df = ma_bibliotheque.add_month_and_hours(df)\n",
    "    \n",
    "    return df"
   ]
  },
  {
   "cell_type": "code",
   "execution_count": 5,
   "metadata": {},
   "outputs": [
    {
     "name": "stdout",
     "output_type": "stream",
     "text": [
      "   Consommation brute électricité (MW)  Temperature  Humidity  Wind Force  \\\n",
      "0                               5468.0          8.0      88.0         5.5   \n",
      "1                               5468.0          8.3      88.0         6.1   \n",
      "2                               5468.0          8.0      95.0         5.8   \n",
      "3                               5479.5          6.8      91.5        10.0   \n",
      "4                               5479.5          9.0      82.0         3.2   \n",
      "\n",
      "   country_ISO  scale  holiday  day  month  hours  \n",
      "0          250      5        1    2      1      0  \n",
      "1          250      5        1    2      1      0  \n",
      "2          250      5        1    2      1      0  \n",
      "3          250      5        1    2      1      1  \n",
      "4          250      5        1    2      1      1  \n"
     ]
    }
   ],
   "source": [
    "df_transformed = process_dataframe(csv_file_path)\n",
    "print(df_transformed.head())"
   ]
  },
  {
   "cell_type": "code",
   "execution_count": 6,
   "metadata": {},
   "outputs": [],
   "source": [
    "numero_region=75\n",
    "pays= ma_bibliotheque.get_country_iso_numeric(\"france\")\n",
    "# Construire le nom du fichier en utilisant la première valeur de la colonne 'Code INSEE région'\n",
    "nom_fichier = f\"e_w_{pays}_{numero_region}.csv\"\n",
    "\n",
    "# Définir le chemin complet en joignant le chemin et le nom du fichier\n",
    "chemin_complet = f\"/Users/eliotsouthon/Desktop/POC/Data/Data France/Data_gold_france/{nom_fichier}\"\n",
    "\n",
    "# Sauvegarder le DataFrame en CSV\n",
    "df_transformed.to_csv(chemin_complet, index=False, sep=';', encoding='utf-8')"
   ]
  },
  {
   "cell_type": "code",
   "execution_count": null,
   "metadata": {},
   "outputs": [],
   "source": []
  }
 ],
 "metadata": {
  "kernelspec": {
   "display_name": ".venv",
   "language": "python",
   "name": "python3"
  },
  "language_info": {
   "codemirror_mode": {
    "name": "ipython",
    "version": 3
   },
   "file_extension": ".py",
   "mimetype": "text/x-python",
   "name": "python",
   "nbconvert_exporter": "python",
   "pygments_lexer": "ipython3",
   "version": "3.9.6"
  }
 },
 "nbformat": 4,
 "nbformat_minor": 2
}
